{
 "cells": [
  {
   "cell_type": "markdown",
   "metadata": {},
   "source": [
    "<img src=\"files/cafe.png\">\n",
    "\n",
    "\n",
    "\n",
    "# My Christmas List in Python\n",
    "### A cute video tutorial full of cats by the Cool Kitten Coding Café\n",
    "\n",
    "\n",
    "#### For a coding cuteness overload click [here](https://youtu.be/uHOyl458l70) to access the video tutorial.\n",
    "\n",
    "\n",
    "\n",
    "\n"
   ]
  },
  {
   "cell_type": "markdown",
   "metadata": {},
   "source": [
    "<img src=\"files/elfcat.png\" width=\"137\" height=\"150\">"
   ]
  },
  {
   "cell_type": "markdown",
   "metadata": {},
   "source": [
    "We start with creating a list. Please note that to create a list in Python, you use the square brackets. This is a list of strings which is the reason why we use the quotation marks for each element."
   ]
  },
  {
   "cell_type": "code",
   "execution_count": 1,
   "metadata": {},
   "outputs": [],
   "source": [
    "my_christmas_list = ['candy cane', 'gingerbread man', 'christmas stocking']"
   ]
  },
  {
   "cell_type": "markdown",
   "metadata": {},
   "source": [
    "We now print the list to see its elements."
   ]
  },
  {
   "cell_type": "code",
   "execution_count": 2,
   "metadata": {},
   "outputs": [
    {
     "name": "stdout",
     "output_type": "stream",
     "text": [
      "['candy cane', 'gingerbread man', 'christmas stocking']\n"
     ]
    }
   ],
   "source": [
    "print(my_christmas_list)"
   ]
  },
  {
   "cell_type": "markdown",
   "metadata": {},
   "source": [
    "As you can see above, when you print the list, it is really the list being printed, hence the square brackets."
   ]
  },
  {
   "cell_type": "markdown",
   "metadata": {},
   "source": [
    "In order to know the number of elements within the list, you can check its length."
   ]
  },
  {
   "cell_type": "code",
   "execution_count": 3,
   "metadata": {},
   "outputs": [
    {
     "data": {
      "text/plain": [
       "3"
      ]
     },
     "execution_count": 3,
     "metadata": {},
     "output_type": "execute_result"
    }
   ],
   "source": [
    "len(my_christmas_list)"
   ]
  },
  {
   "cell_type": "markdown",
   "metadata": {},
   "source": [
    "It returns three. We can make this a bit prettier by returning this inside a printed sentences."
   ]
  },
  {
   "cell_type": "code",
   "execution_count": 4,
   "metadata": {},
   "outputs": [
    {
     "name": "stdout",
     "output_type": "stream",
     "text": [
      "At the beginning the list has 3 items.\n"
     ]
    }
   ],
   "source": [
    "print('At the beginning the list has', len(my_christmas_list), 'items.')"
   ]
  },
  {
   "cell_type": "markdown",
   "metadata": {},
   "source": [
    "You can add an element at the end of the list. For instance, here we're going to add the string bells."
   ]
  },
  {
   "cell_type": "code",
   "execution_count": 5,
   "metadata": {},
   "outputs": [],
   "source": [
    "my_christmas_list.append('bells')"
   ]
  },
  {
   "cell_type": "markdown",
   "metadata": {},
   "source": [
    "When you do this, you don't see what you have done. It's important to check frequently."
   ]
  },
  {
   "cell_type": "code",
   "execution_count": 6,
   "metadata": {},
   "outputs": [
    {
     "name": "stdout",
     "output_type": "stream",
     "text": [
      "['candy cane', 'gingerbread man', 'christmas stocking', 'bells']\n",
      "After appending bells, the list has 4 items.\n"
     ]
    }
   ],
   "source": [
    "print(my_christmas_list)\n",
    "print('After appending bells, the list has', len(my_christmas_list), 'items.')"
   ]
  },
  {
   "cell_type": "markdown",
   "metadata": {},
   "source": [
    "We can insert an element within the list. Let's try inserting the string present at the index position 1."
   ]
  },
  {
   "cell_type": "code",
   "execution_count": 7,
   "metadata": {},
   "outputs": [],
   "source": [
    "my_christmas_list.insert(1, 'present')"
   ]
  },
  {
   "cell_type": "markdown",
   "metadata": {},
   "source": [
    "Let's see what we've done."
   ]
  },
  {
   "cell_type": "code",
   "execution_count": 8,
   "metadata": {},
   "outputs": [
    {
     "name": "stdout",
     "output_type": "stream",
     "text": [
      "['candy cane', 'present', 'gingerbread man', 'christmas stocking', 'bells']\n",
      "After inserting present, the list has 5 items.\n"
     ]
    }
   ],
   "source": [
    "print(my_christmas_list)\n",
    "print('After inserting present, the list has', len(my_christmas_list), 'items.')"
   ]
  },
  {
   "cell_type": "markdown",
   "metadata": {},
   "source": [
    "We can add a list of elements at the end of the list. Let's try adding a list that includes the strings christmas tree and poinsettia. Again, please note the use of square brackets for lists and quotation marks for strings."
   ]
  },
  {
   "cell_type": "code",
   "execution_count": 9,
   "metadata": {},
   "outputs": [
    {
     "name": "stdout",
     "output_type": "stream",
     "text": [
      "['candy cane', 'present', 'gingerbread man', 'christmas stocking', 'bells', 'christmas tree', 'poinsettia']\n",
      "After extending the list, the list has 7 items.\n"
     ]
    }
   ],
   "source": [
    "my_christmas_list.extend(['christmas tree', 'poinsettia'])\n",
    "print(my_christmas_list)\n",
    "print('After extending the list, the list has', len(my_christmas_list), 'items.')"
   ]
  },
  {
   "cell_type": "markdown",
   "metadata": {},
   "source": [
    "We can find the index position of an element. Let's look up the position of the string christmas tree."
   ]
  },
  {
   "cell_type": "code",
   "execution_count": 10,
   "metadata": {},
   "outputs": [
    {
     "name": "stdout",
     "output_type": "stream",
     "text": [
      "Christmas tree is at position 5 of the index.\n"
     ]
    }
   ],
   "source": [
    "print('Christmas tree is at position', my_christmas_list.index('christmas tree'), 'of the index.')"
   ]
  },
  {
   "cell_type": "markdown",
   "metadata": {},
   "source": [
    "We can remove this element from the list."
   ]
  },
  {
   "cell_type": "code",
   "execution_count": 11,
   "metadata": {},
   "outputs": [
    {
     "name": "stdout",
     "output_type": "stream",
     "text": [
      "['candy cane', 'present', 'gingerbread man', 'christmas stocking', 'bells', 'poinsettia']\n",
      "After removing christmas tree, the list has 6 items.\n"
     ]
    }
   ],
   "source": [
    "my_christmas_list.remove('christmas tree')\n",
    "print(my_christmas_list)\n",
    "print('After removing christmas tree, the list has', len(my_christmas_list), 'items.')"
   ]
  },
  {
   "cell_type": "markdown",
   "metadata": {},
   "source": [
    "Bonus, not featured in the video, .pop.\n",
    "The pop command is a funny one,  it removes and return an element"
   ]
  },
  {
   "cell_type": "code",
   "execution_count": 12,
   "metadata": {},
   "outputs": [
    {
     "name": "stdout",
     "output_type": "stream",
     "text": [
      "['candy cane', 'present', 'gingerbread man', 'bells', 'poinsettia']\n",
      "After popping the element at position 3, the list has 5 items.\n"
     ]
    }
   ],
   "source": [
    "my_christmas_list.pop(3)\n",
    "print(my_christmas_list)\n",
    "print('After popping the element at position 3, the list has', len(my_christmas_list), 'items.')"
   ]
  },
  {
   "cell_type": "markdown",
   "metadata": {},
   "source": [
    "Well done for getting this far! Now you should try creating a Christmas list of your own and play around with it."
   ]
  },
  {
   "cell_type": "markdown",
   "metadata": {},
   "source": [
    "You could create a toy list. I made one for my cat."
   ]
  },
  {
   "cell_type": "code",
   "execution_count": 13,
   "metadata": {},
   "outputs": [
    {
     "name": "stdout",
     "output_type": "stream",
     "text": [
      "['mouse', 'ball', 'milk treats', 'feather', 'box', 'hot bottle']\n"
     ]
    }
   ],
   "source": [
    "my_cat_xmas_list = ['mouse', 'ball', 'milk treats', 'feather', 'box', 'hot bottle']\n",
    "print(my_cat_xmas_list)"
   ]
  },
  {
   "cell_type": "markdown",
   "metadata": {},
   "source": [
    "I made one for my dog too."
   ]
  },
  {
   "cell_type": "code",
   "execution_count": 14,
   "metadata": {},
   "outputs": [
    {
     "name": "stdout",
     "output_type": "stream",
     "text": [
      "['chewy bones', 'chicken delight treatos', 'fluffy blanket', 'superman costume']\n"
     ]
    }
   ],
   "source": [
    "my_dog_xmas_list = ['chewy bones', 'chicken delight treatos', 'fluffy blanket', 'superman costume']\n",
    "print(my_dog_xmas_list)"
   ]
  },
  {
   "cell_type": "markdown",
   "metadata": {},
   "source": [
    "What about I buy all the presents at the same place? It would make sense to put the two lists together. That's what is called concatenating lists."
   ]
  },
  {
   "cell_type": "code",
   "execution_count": 15,
   "metadata": {},
   "outputs": [
    {
     "name": "stdout",
     "output_type": "stream",
     "text": [
      "['mouse', 'ball', 'milk treats', 'feather', 'box', 'hot bottle', 'chewy bones', 'chicken delight treatos', 'fluffy blanket', 'superman costume']\n"
     ]
    }
   ],
   "source": [
    "my_pets_xmas_list = my_cat_xmas_list + my_dog_xmas_list\n",
    "print(my_pets_xmas_list)"
   ]
  },
  {
   "cell_type": "markdown",
   "metadata": {},
   "source": [
    "Do you remember how many presents you wanted to buy? You can check the length."
   ]
  },
  {
   "cell_type": "code",
   "execution_count": 16,
   "metadata": {},
   "outputs": [
    {
     "data": {
      "text/plain": [
       "10"
      ]
     },
     "execution_count": 16,
     "metadata": {},
     "output_type": "execute_result"
    }
   ],
   "source": [
    "len(my_pets_xmas_list)"
   ]
  },
  {
   "cell_type": "markdown",
   "metadata": {},
   "source": [
    "Is it a bit over the top? Let's remove the chewy bones."
   ]
  },
  {
   "cell_type": "code",
   "execution_count": 17,
   "metadata": {},
   "outputs": [
    {
     "name": "stdout",
     "output_type": "stream",
     "text": [
      "['mouse', 'ball', 'milk treats', 'feather', 'box', 'hot bottle', 'chicken delight treatos', 'fluffy blanket', 'superman costume']\n"
     ]
    },
    {
     "data": {
      "text/plain": [
       "9"
      ]
     },
     "execution_count": 17,
     "metadata": {},
     "output_type": "execute_result"
    }
   ],
   "source": [
    "my_pets_xmas_list.remove('chewy bones')\n",
    "print(my_pets_xmas_list)\n",
    "len(my_pets_xmas_list)"
   ]
  },
  {
   "cell_type": "markdown",
   "metadata": {},
   "source": [
    "The more you'll practice with lists, the easier it will get. \n",
    "## Don't forget to check out the super cute video tutorial [here](https://youtu.be/uHOyl458l70) and if you wish to support the Cool Kitten Coding Café, please subscribe.\n",
    "<img src=\"files/elfcat.png\" width=\"137\" height=\"150\">\n"
   ]
  }
 ],
 "metadata": {
  "kernelspec": {
   "display_name": "Python 3",
   "language": "python",
   "name": "python3"
  },
  "language_info": {
   "codemirror_mode": {
    "name": "ipython",
    "version": 3
   },
   "file_extension": ".py",
   "mimetype": "text/x-python",
   "name": "python",
   "nbconvert_exporter": "python",
   "pygments_lexer": "ipython3",
   "version": "3.7.3"
  }
 },
 "nbformat": 4,
 "nbformat_minor": 2
}
